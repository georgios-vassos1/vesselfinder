{
 "cells": [
  {
   "cell_type": "code",
   "execution_count": null,
   "id": "6b7f3bb0",
   "metadata": {},
   "outputs": [],
   "source": [
    "import urllib.request\n",
    "import os, re\n",
    "import pandas as pd\n",
    "from bs4 import BeautifulSoup\n",
    "from datetime import datetime\n",
    "import locale"
   ]
  },
  {
   "cell_type": "code",
   "execution_count": null,
   "id": "8c82be93",
   "metadata": {},
   "outputs": [],
   "source": [
    "# locale.setlocale(locale.LC_ALL, 'es_ES') #as we need to deal with names of monthes later on."
   ]
  },
  {
   "cell_type": "code",
   "execution_count": null,
   "id": "404dbe1d",
   "metadata": {},
   "outputs": [],
   "source": [
    "IMO = 9648714"
   ]
  },
  {
   "cell_type": "code",
   "execution_count": null,
   "id": "b7bc3ac0",
   "metadata": {},
   "outputs": [],
   "source": [
    "base_url = f\"https://www.vesselfinder.com/en/vessels/details/{IMO}\"\n",
    "# base_url = f\"https://www.vesselfinder.com/en/vessels?page=201\"\n",
    "\n",
    "headers = {\n",
    " 'User-Agent': 'Mozilla/5.0 (X11; Linux x86_64) AppleWebKit/537.11 (KHTML, like Gecko) \\\n",
    "                Chrome/91.0.4472.124 \\\n",
    "                Safari/537.11',\n",
    " 'Accept': 'text/html,application/xhtml+xml,application/xml;q=0.9,*/*;q=0.8',\n",
    " 'Accept-Charset': 'ISO-8859-1,utf-8;q=0.7,*;q=0.3',\n",
    " 'Accept-Encoding': 'none',\n",
    " 'Accept-Language': 'en-US,en;q=0.8',\n",
    " 'Connection': 'keep-alive'\n",
    "}"
   ]
  },
  {
   "cell_type": "code",
   "execution_count": null,
   "id": "95dbc686",
   "metadata": {},
   "outputs": [],
   "source": [
    "req = urllib.request.Request(base_url, None, headers)\n",
    "\n",
    "with urllib.request.urlopen(req) as response:\n",
    " page_content = response.read()\n",
    "\n",
    "parsed_html = BeautifulSoup(page_content, 'html.parser')\n",
    "tables      = parsed_html.find_all(\"table\", class_=['aparams','tparams'])"
   ]
  },
  {
   "cell_type": "code",
   "execution_count": null,
   "id": "9ed06a7f",
   "metadata": {},
   "outputs": [],
   "source": [
    "# links = parsed_html.find_all(\"a\")\n",
    "# token_pattern = r'/vessels/details/(\\d+)'\n",
    "# match = re.findall(token_pattern, str(links))"
   ]
  },
  {
   "cell_type": "code",
   "execution_count": null,
   "id": "059c4894",
   "metadata": {},
   "outputs": [],
   "source": [
    "D = {}\n",
    "for row in tables[2].find_all('tr'):\n",
    " columns = row.find_all('td')\n",
    " if len(columns) == 2:\n",
    "  key   = columns[0].text.strip()\n",
    "  value = columns[1].text.strip()\n",
    "  D[key] = value"
   ]
  },
  {
   "cell_type": "code",
   "execution_count": null,
   "id": "63a2e3f8",
   "metadata": {},
   "outputs": [],
   "source": [
    "D"
   ]
  },
  {
   "cell_type": "code",
   "execution_count": null,
   "id": "b002deb2",
   "metadata": {},
   "outputs": [],
   "source": []
  },
  {
   "cell_type": "code",
   "execution_count": null,
   "id": "27e9541d",
   "metadata": {},
   "outputs": [],
   "source": [
    "import requests\n",
    "import re, json\n",
    "\n",
    "base_url = f\"https://www.vesselfinder.com/en/vessels/\"\n",
    "\n",
    "headers = {\n",
    " 'User-Agent': 'Mozilla/5.0 (X11; Linux x86_64) AppleWebKit/537.11 (KHTML, like Gecko) \\\n",
    "                Chrome/91.0.4472.124 \\\n",
    "                Safari/537.11',\n",
    " 'Accept': 'text/html,application/xhtml+xml,application/xml;q=0.9,*/*;q=0.8',\n",
    " 'Accept-Charset': 'ISO-8859-1,utf-8;q=0.7,*;q=0.3',\n",
    " 'Accept-Encoding': 'none',\n",
    " 'Accept-Language': 'en-US,en;q=0.8',\n",
    " 'Connection': 'keep-alive'\n",
    "}\n",
    "\n",
    "session = requests.Session()\n",
    "\n",
    "response = session.get(base_url, verify=True, headers=headers)\n",
    "response.raise_for_status()"
   ]
  },
  {
   "cell_type": "code",
   "execution_count": null,
   "id": "4c19820b",
   "metadata": {},
   "outputs": [],
   "source": [
    "api_url = \"https://www.vesselfinder.com/api/pub/pcext/v4/228386800?d\"\n",
    "\n",
    "params = {}\n",
    "\n",
    "response = session.get(api_url, params=params, headers=headers)\n",
    "response.raise_for_status()"
   ]
  },
  {
   "cell_type": "code",
   "execution_count": null,
   "id": "9fa78694",
   "metadata": {},
   "outputs": [],
   "source": [
    "response.json()"
   ]
  },
  {
   "cell_type": "code",
   "execution_count": null,
   "id": "fae28e4b",
   "metadata": {},
   "outputs": [],
   "source": [
    "# # Define functions to convert DMS to DD\n",
    "# def dms2dd(degrees, direction):\n",
    "#  dd = float(degrees)\n",
    "#  if direction in ['S', 'W']:\n",
    "#   dd *= -1\n",
    "#  return dd\n",
    "\n",
    "# def parse_dms(dms):\n",
    "#  parts = re.split(r'[°\\'\"]+', dms)\n",
    "#  degrees = float(parts[0])\n",
    "#  minutes = float(parts[1])\n",
    "#  seconds = 0.0 if len(parts) < 3 else float(parts[2])\n",
    "#  direction = parts[-1]\n",
    "#  dd = degrees + minutes / 60.0 + seconds / 3600.0\n",
    "#  return dms2dd(dd, direction)\n",
    "\n",
    "# for table in tables:\n",
    "#  if table.find_parent(\"table\") is None:\n",
    "#   for row in table.find_all('tr'):\n",
    "#    cells = row.find_all('td')\n",
    "#    if len(cells) == 2:\n",
    "#     key = cells[0].get_text(strip=True)\n",
    "#     value = cells[1].get_text(strip=True)\n",
    "\n",
    "#     # Define a mapping of table keys to vessel_info keys\n",
    "#     key_mapping = {\n",
    "#      \"Vessel Name\": \"Name\",\n",
    "#      \"Coordinates\": \"Coordinates\",\n",
    "#      \"Position received\": \"Position Received\"\n",
    "#     }\n",
    "\n",
    "#     # Check if the key is in the mapping\n",
    "#     if key in key_mapping:\n",
    "#      field_name = key_mapping[key]\n",
    "\n",
    "#      # Special case for 'Position received' to parse the datetime\n",
    "#      if field_name == \"Position Received\":\n",
    "#       position_time_str = cells[1]['data-title']\n",
    "#       position_time = datetime.strptime(position_time_str, '%b %d, %Y %H:%M %Z')\n",
    "#       vessel_info[field_name] = position_time\n",
    "#      else:\n",
    "#       vessel_info[field_name] = value"
   ]
  },
  {
   "cell_type": "markdown",
   "id": "36b3bcf3",
   "metadata": {},
   "source": [
    "# Example with Dynamic Content"
   ]
  },
  {
   "cell_type": "code",
   "execution_count": null,
   "id": "09d6cc5d",
   "metadata": {},
   "outputs": [],
   "source": [
    "# stackoverflow.com/a/61051360\n",
    "\n",
    "import requests\n",
    "import re, json\n",
    "\n",
    "session = requests.Session()\n",
    "\n",
    "params = {\n",
    " \"Category\": \"1\",\n",
    " \"salesTypeFilter\": \"1\",\n",
    " \"sortType\": \"4\"\n",
    "}\n",
    "\n",
    "url = \"https://www.roblox.com/catalog/\"\n",
    "\n",
    "response = session.get(url)\n",
    "response.raise_for_status()\n",
    "\n",
    "# token_pattern = r'<meta name=\"csrf-token\" data-token=\"(?P<csrf_token>[^\"]+)\" />'\n",
    "token_pattern = r'data-token=\"(?P<csrf_token>[^\"]+)\"'\n",
    "\n",
    "match = re.search(token_pattern, response.text)\n",
    "csrf_token = match.group(\"csrf_token\")\n",
    "\n",
    "api_url = \"https://catalog.roblox.com/v1/search/items\"\n",
    "\n",
    "response = session.get(api_url, params=params, headers={})\n",
    "response.raise_for_status()\n",
    "\n",
    "assets = {\"items\": [{**d, \"key\": f\"{d['itemType']}_{d['id']}\"} for d in response.json()[\"data\"]]}"
   ]
  },
  {
   "cell_type": "code",
   "execution_count": null,
   "id": "edca5dfb",
   "metadata": {},
   "outputs": [],
   "source": [
    "url = \"https://catalog.roblox.com/v1/catalog/items/details\"\n",
    "\n",
    "headers = {\n",
    "    \"Content-Type\": \"application/json;charset=UTF-8\",\n",
    "    \"X-CSRF-TOKEN\": csrf_token\n",
    "}\n",
    "\n",
    "response = session.post(url, data=json.dumps(assets), headers=headers)\n",
    "response.raise_for_status()\n",
    "\n",
    "items = response.json()[\"data\"]"
   ]
  },
  {
   "cell_type": "code",
   "execution_count": null,
   "id": "82f6d8e5",
   "metadata": {},
   "outputs": [],
   "source": [
    "first_item = items[0]\n",
    "\n",
    "for key, value in first_item.items():\n",
    " print(f\"{key}: {value}\")"
   ]
  },
  {
   "cell_type": "code",
   "execution_count": null,
   "id": "88c413cd",
   "metadata": {},
   "outputs": [],
   "source": []
  }
 ],
 "metadata": {
  "kernelspec": {
   "display_name": "platform",
   "language": "python",
   "name": "platform"
  },
  "language_info": {
   "codemirror_mode": {
    "name": "ipython",
    "version": 3
   },
   "file_extension": ".py",
   "mimetype": "text/x-python",
   "name": "python",
   "nbconvert_exporter": "python",
   "pygments_lexer": "ipython3",
   "version": "3.9.18"
  }
 },
 "nbformat": 4,
 "nbformat_minor": 5
}
