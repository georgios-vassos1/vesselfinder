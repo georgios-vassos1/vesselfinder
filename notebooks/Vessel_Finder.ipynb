{
 "cells": [
  {
   "cell_type": "markdown",
   "id": "37679145",
   "metadata": {},
   "source": [
    "# Scraping data from vesselfinder"
   ]
  },
  {
   "cell_type": "markdown",
   "id": "d380ad3c",
   "metadata": {},
   "source": [
    "## Get all XHR requests"
   ]
  },
  {
   "cell_type": "code",
   "execution_count": null,
   "id": "ccdba3a0",
   "metadata": {},
   "outputs": [],
   "source": [
    "import asyncio\n",
    "from playwright.async_api import async_playwright\n",
    "import re\n",
    "import requests"
   ]
  },
  {
   "cell_type": "code",
   "execution_count": null,
   "id": "554e3681",
   "metadata": {},
   "outputs": [],
   "source": [
    "async with async_playwright() as p:\n",
    " browser = await p.chromium.launch(executable_path='/Applications/Google Chrome.app/Contents/MacOS/Google Chrome')\n",
    " page    = await browser.new_page()\n",
    "\n",
    " # Enable network interception\n",
    " await page.route('**/*', lambda route, request: route.continue_())\n",
    "\n",
    " # Set up an event listener for XHR requests\n",
    " xhr_requests = []\n",
    " page.on('request', lambda request: xhr_requests.append(request))\n",
    "\n",
    " # Navigate to the web page\n",
    " await page.goto('https://www.marinetraffic.com/en/ais/home/centerx:-17.9/centery:22.8/zoom:2')\n",
    "\n",
    " # Wait for XHR requests to complete (you can customize this part)\n",
    " await page.wait_for_timeout(5000)  # Wait for 5 seconds (adjust as needed)\n",
    "\n",
    " # Print a list of XHR request URLs\n",
    " for request in xhr_requests:\n",
    "     print(request.url)\n",
    "\n",
    " await browser.close()"
   ]
  },
  {
   "cell_type": "code",
   "execution_count": null,
   "id": "e2d335c8",
   "metadata": {},
   "outputs": [],
   "source": [
    "def get_AIS_XHR(XHRs: list) -> list:\n",
    "\n",
    " url_pattern = re.compile(re.escape('/get_data_json_4/z:2/X:') + r'\\d+/Y:' + r'\\d+/station:0')\n",
    "\n",
    " ais = []\n",
    " for request in XHRs:\n",
    "  if url_pattern.search(request.url):\n",
    "   ais.append(request.url)\n",
    "\n",
    " return ais"
   ]
  },
  {
   "cell_type": "code",
   "execution_count": null,
   "id": "c871b5ac",
   "metadata": {},
   "outputs": [],
   "source": [
    "ais = get_AIS_XHR(xhr_requests)"
   ]
  },
  {
   "cell_type": "code",
   "execution_count": null,
   "id": "a5317068",
   "metadata": {},
   "outputs": [],
   "source": [
    "headers = {\n",
    " 'User-Agent': 'Mozilla/5.0 (X11; Linux x86_64) AppleWebKit/537.11 (KHTML, like Gecko) \\\n",
    "                Chrome/91.0.4472.124 \\\n",
    "                Safari/537.11',\n",
    " 'Accept': 'text/html,application/xhtml+xml,application/xml;q=0.9,*/*;q=0.8',\n",
    " 'Accept-Charset': 'ISO-8859-1,utf-8;q=0.7,*;q=0.3',\n",
    " 'Accept-Encoding': 'none',\n",
    " 'Accept-Language': 'en-US,en;q=0.8',\n",
    " 'Connection': 'keep-alive'\n",
    "}\n",
    "\n",
    "session = requests.Session()\n",
    "response = session.get(ais[0], params=None, headers=headers)\n",
    "response.raise_for_status()"
   ]
  },
  {
   "cell_type": "code",
   "execution_count": null,
   "id": "f5ee9fe4",
   "metadata": {},
   "outputs": [],
   "source": [
    "response.json()['data']"
   ]
  },
  {
   "cell_type": "markdown",
   "id": "dcb7949b",
   "metadata": {},
   "source": [
    "## Static Content Utilities"
   ]
  },
  {
   "cell_type": "code",
   "execution_count": null,
   "id": "4fb802d8",
   "metadata": {},
   "outputs": [],
   "source": [
    "import urllib.request\n",
    "import os, bs4\n",
    "import pandas as pd\n",
    "\n",
    "from bs4 import BeautifulSoup\n",
    "# locale.setlocale(locale.LC_ALL, 'es_ES') #as we need to deal with names of monthes later on."
   ]
  },
  {
   "cell_type": "code",
   "execution_count": null,
   "id": "0d06ff5c",
   "metadata": {},
   "outputs": [],
   "source": [
    "def get_static_content(base_url: str, headers: dict):\n",
    "\n",
    " req = urllib.request.Request(base_url, None, headers)\n",
    "\n",
    " with urllib.request.urlopen(req) as response:\n",
    "  page_content = response.read()\n",
    "\n",
    " parsed_html = BeautifulSoup(page_content, 'html.parser')\n",
    "\n",
    " return (\n",
    "  parsed_html.find_all(\"h2\", class_=['bar']),\n",
    "  parsed_html.find_all(\"table\", class_=['aparams','tparams'])\n",
    " )\n",
    "\n",
    "def scrape_static_table(titles: bs4.element.ResultSet, tables: bs4.element.ResultSet, idx:list = [0,3,3]) -> dict:\n",
    "\n",
    " D = {}\n",
    "\n",
    " for j, table in enumerate(tables[:3]):\n",
    "  tbx = titles[idx[j]].text.strip()\n",
    "  D[tbx] = {}\n",
    "\n",
    "  for row in table.find_all('tr'):\n",
    "   columns = row.find_all('td')\n",
    "   key   = columns[0].text.strip()\n",
    "   value = columns[1].text.strip()\n",
    "   D[tbx][key] = value\n",
    "\n",
    " return D\n",
    "\n",
    "def get_vesselfinder_static(IMOs: list, headers: dict=None, limit: int=10) -> dict:\n",
    "\n",
    " vf_details = {}\n",
    " exceptions = {}\n",
    "\n",
    " for j, IMO in enumerate(IMOs[:limit]):\n",
    "  base_url = f\"https://www.vesselfinder.com/en/vessels/details/{IMO}\"\n",
    "\n",
    "  try:\n",
    "   static_content = get_static_content(base_url, headers)\n",
    "   vf_details[IMO] = scrape_static_table(*static_content)\n",
    "  except Exception as e:\n",
    "   print(f\"An exception occurred for {IMO}: {e}\")\n",
    "   exceptions[IMO] = e\n",
    "\n",
    "  print(f\"{j+1} Vessels Completed\", end='\\r', flush=True)\n",
    "\n",
    " return vf_details, exceptions"
   ]
  },
  {
   "cell_type": "markdown",
   "id": "0dbd99ba",
   "metadata": {},
   "source": [
    "## Initialization"
   ]
  },
  {
   "cell_type": "code",
   "execution_count": null,
   "id": "1a867315",
   "metadata": {},
   "outputs": [],
   "source": [
    "headers = {\n",
    " 'User-Agent': 'Mozilla/5.0 (X11; Linux x86_64) AppleWebKit/537.11 (KHTML, like Gecko) \\\n",
    "                Chrome/91.0.4472.124 \\\n",
    "                Safari/537.11',\n",
    " 'Accept': 'text/html,application/xhtml+xml,application/xml;q=0.9,*/*;q=0.8',\n",
    " 'Accept-Charset': 'ISO-8859-1,utf-8;q=0.7,*;q=0.3',\n",
    " 'Accept-Encoding': 'none',\n",
    " 'Accept-Language': 'en-US,en;q=0.8',\n",
    " 'Connection': 'keep-alive'\n",
    "}\n",
    "\n",
    "data_path = os.path.join(os.getcwd(), \"..\", \"data\", \"imo-vessel-codes.csv\")\n",
    "# Check if the file exists\n",
    "if os.path.exists(data_path):\n",
    "    # Read the CSV file into a DataFrame\n",
    "    df = pd.read_csv(data_path)\n",
    "else:\n",
    "    print(f\"The CSV file '{data_path}' does not exist.\")\n",
    "\n",
    "IMOs = list(df.imo.unique()) # There are multiple MMSI for an IMO"
   ]
  },
  {
   "cell_type": "markdown",
   "id": "08c36dd9",
   "metadata": {},
   "source": [
    "## Static Content Scraping"
   ]
  },
  {
   "cell_type": "code",
   "execution_count": null,
   "id": "30c8de3d",
   "metadata": {},
   "outputs": [],
   "source": [
    "vf_details = get_vesselfinder_static(IMOs, headers)"
   ]
  },
  {
   "cell_type": "markdown",
   "id": "3f3d4fb6",
   "metadata": {},
   "source": [
    "## Dynamic Content Utilities"
   ]
  },
  {
   "cell_type": "code",
   "execution_count": null,
   "id": "f672a7c8",
   "metadata": {},
   "outputs": [],
   "source": [
    "import requests\n",
    "import json"
   ]
  },
  {
   "cell_type": "code",
   "execution_count": null,
   "id": "31c91582",
   "metadata": {},
   "outputs": [],
   "source": [
    "def get_dynamic_table(api_url: str, headers: dict=None, params: dict=None) -> dict:\n",
    " response = session.get(api_url, params=params, headers=headers)\n",
    " response.raise_for_status()\n",
    " return response.json()"
   ]
  },
  {
   "cell_type": "markdown",
   "id": "9d39667e",
   "metadata": {},
   "source": [
    "## Dynamic Content Scraping"
   ]
  },
  {
   "cell_type": "code",
   "execution_count": null,
   "id": "befe17a3",
   "metadata": {},
   "outputs": [],
   "source": [
    "MMSI = 228386800\n",
    "\n",
    "api_url = f\"https://www.vesselfinder.com/api/pub/pcext/v4/{MMSI}?d\"\n",
    "\n",
    "params = {}\n",
    "\n",
    "response = session.get(api_url, params=params, headers=headers)\n",
    "response.raise_for_status()"
   ]
  },
  {
   "cell_type": "code",
   "execution_count": null,
   "id": "dda9bd7f",
   "metadata": {},
   "outputs": [],
   "source": [
    "response.json()"
   ]
  },
  {
   "cell_type": "code",
   "execution_count": null,
   "id": "f2a5da93",
   "metadata": {},
   "outputs": [],
   "source": [
    "# base_url = f\"https://www.vesselfinder.com/en/vessels/\"\n",
    "\n",
    "# headers = {\n",
    "#  'User-Agent': 'Mozilla/5.0 (X11; Linux x86_64) AppleWebKit/537.11 (KHTML, like Gecko) \\\n",
    "#                 Chrome/91.0.4472.124 \\\n",
    "#                 Safari/537.11',\n",
    "#  'Accept': 'text/html,application/xhtml+xml,application/xml;q=0.9,*/*;q=0.8',\n",
    "#  'Accept-Charset': 'ISO-8859-1,utf-8;q=0.7,*;q=0.3',\n",
    "#  'Accept-Encoding': 'none',\n",
    "#  'Accept-Language': 'en-US,en;q=0.8',\n",
    "#  'Connection': 'keep-alive'\n",
    "# }\n",
    "\n",
    "# session = requests.Session()\n",
    "\n",
    "# response = session.get(base_url, verify=True, headers=headers)\n",
    "# response.raise_for_status()"
   ]
  },
  {
   "cell_type": "markdown",
   "id": "36b3bcf3",
   "metadata": {},
   "source": [
    "# Example with Dynamic Content"
   ]
  },
  {
   "cell_type": "code",
   "execution_count": null,
   "id": "09d6cc5d",
   "metadata": {},
   "outputs": [],
   "source": [
    "# stackoverflow.com/a/61051360\n",
    "\n",
    "import requests\n",
    "import re, json\n",
    "\n",
    "session = requests.Session()\n",
    "\n",
    "params = {\n",
    " \"Category\": \"1\",\n",
    " \"salesTypeFilter\": \"1\",\n",
    " \"sortType\": \"4\"\n",
    "}\n",
    "\n",
    "url = \"https://www.roblox.com/catalog/\"\n",
    "\n",
    "response = session.get(url)\n",
    "response.raise_for_status()\n",
    "\n",
    "# token_pattern = r'<meta name=\"csrf-token\" data-token=\"(?P<csrf_token>[^\"]+)\" />'\n",
    "token_pattern = r'data-token=\"(?P<csrf_token>[^\"]+)\"'\n",
    "\n",
    "match = re.search(token_pattern, response.text)\n",
    "csrf_token = match.group(\"csrf_token\")\n",
    "\n",
    "api_url = \"https://catalog.roblox.com/v1/search/items\"\n",
    "\n",
    "response = session.get(api_url, params=params, headers={})\n",
    "response.raise_for_status()\n",
    "\n",
    "assets = {\"items\": [{**d, \"key\": f\"{d['itemType']}_{d['id']}\"} for d in response.json()[\"data\"]]}"
   ]
  },
  {
   "cell_type": "code",
   "execution_count": null,
   "id": "edca5dfb",
   "metadata": {},
   "outputs": [],
   "source": [
    "url = \"https://catalog.roblox.com/v1/catalog/items/details\"\n",
    "\n",
    "headers = {\n",
    "    \"Content-Type\": \"application/json;charset=UTF-8\",\n",
    "    \"X-CSRF-TOKEN\": csrf_token\n",
    "}\n",
    "\n",
    "response = session.post(url, data=json.dumps(assets), headers=headers)\n",
    "response.raise_for_status()\n",
    "\n",
    "items = response.json()[\"data\"]"
   ]
  },
  {
   "cell_type": "code",
   "execution_count": null,
   "id": "82f6d8e5",
   "metadata": {},
   "outputs": [],
   "source": [
    "first_item = items[0]\n",
    "\n",
    "for key, value in first_item.items():\n",
    " print(f\"{key}: {value}\")"
   ]
  },
  {
   "cell_type": "markdown",
   "id": "35775387",
   "metadata": {},
   "source": [
    "# Obsolete"
   ]
  },
  {
   "cell_type": "code",
   "execution_count": null,
   "id": "ae4de791",
   "metadata": {},
   "outputs": [],
   "source": [
    "# links = parsed_html.find_all(\"a\")\n",
    "# token_pattern = r'/vessels/details/(\\d+)'\n",
    "# match = re.findall(token_pattern, str(links))"
   ]
  },
  {
   "cell_type": "code",
   "execution_count": null,
   "id": "a6d68f9e",
   "metadata": {},
   "outputs": [],
   "source": [
    "import requests\n",
    "import re, json\n",
    "\n",
    "base_url = f\"https://www.vesselfinder.com/en/vessels/\"\n",
    "\n",
    "headers = {\n",
    " 'User-Agent': 'Mozilla/5.0 (X11; Linux x86_64) AppleWebKit/537.11 (KHTML, like Gecko) \\\n",
    "                Chrome/91.0.4472.124 \\\n",
    "                Safari/537.11',\n",
    " 'Accept': 'text/html,application/xhtml+xml,application/xml;q=0.9,*/*;q=0.8',\n",
    " 'Accept-Charset': 'ISO-8859-1,utf-8;q=0.7,*;q=0.3',\n",
    " 'Accept-Encoding': 'none',\n",
    " 'Accept-Language': 'en-US,en;q=0.8',\n",
    " 'Connection': 'keep-alive'\n",
    "}\n",
    "\n",
    "session = requests.Session()\n",
    "\n",
    "response = session.get(base_url, verify=True, headers=headers)\n",
    "response.raise_for_status()"
   ]
  },
  {
   "cell_type": "code",
   "execution_count": null,
   "id": "50940a6d",
   "metadata": {},
   "outputs": [],
   "source": [
    "api_url = \"https://www.vesselfinder.com/api/pub/pcext/v4/228386800?d\"\n",
    "\n",
    "params = {}\n",
    "\n",
    "response = session.get(api_url, params=params, headers=headers)\n",
    "response.raise_for_status()\n",
    "\n",
    "response.json()"
   ]
  },
  {
   "cell_type": "code",
   "execution_count": null,
   "id": "c39b9b01",
   "metadata": {},
   "outputs": [],
   "source": [
    "# # Define functions to convert DMS to DD\n",
    "# def dms2dd(degrees, direction):\n",
    "#  dd = float(degrees)\n",
    "#  if direction in ['S', 'W']:\n",
    "#   dd *= -1\n",
    "#  return dd\n",
    "\n",
    "# def parse_dms(dms):\n",
    "#  parts = re.split(r'[°\\'\"]+', dms)\n",
    "#  degrees = float(parts[0])\n",
    "#  minutes = float(parts[1])\n",
    "#  seconds = 0.0 if len(parts) < 3 else float(parts[2])\n",
    "#  direction = parts[-1]\n",
    "#  dd = degrees + minutes / 60.0 + seconds / 3600.0\n",
    "#  return dms2dd(dd, direction)\n",
    "\n",
    "# for table in tables:\n",
    "#  if table.find_parent(\"table\") is None:\n",
    "#   for row in table.find_all('tr'):\n",
    "#    cells = row.find_all('td')\n",
    "#    if len(cells) == 2:\n",
    "#     key = cells[0].get_text(strip=True)\n",
    "#     value = cells[1].get_text(strip=True)\n",
    "\n",
    "#     # Define a mapping of table keys to vessel_info keys\n",
    "#     key_mapping = {\n",
    "#      \"Vessel Name\": \"Name\",\n",
    "#      \"Coordinates\": \"Coordinates\",\n",
    "#      \"Position received\": \"Position Received\"\n",
    "#     }\n",
    "\n",
    "#     # Check if the key is in the mapping\n",
    "#     if key in key_mapping:\n",
    "#      field_name = key_mapping[key]\n",
    "\n",
    "#      # Special case for 'Position received' to parse the datetime\n",
    "#      if field_name == \"Position Received\":\n",
    "#       position_time_str = cells[1]['data-title']\n",
    "#       position_time = datetime.strptime(position_time_str, '%b %d, %Y %H:%M %Z')\n",
    "#       vessel_info[field_name] = position_time\n",
    "#      else:\n",
    "#       vessel_info[field_name] = value"
   ]
  }
 ],
 "metadata": {
  "kernelspec": {
   "display_name": "platform",
   "language": "python",
   "name": "platform"
  },
  "language_info": {
   "codemirror_mode": {
    "name": "ipython",
    "version": 3
   },
   "file_extension": ".py",
   "mimetype": "text/x-python",
   "name": "python",
   "nbconvert_exporter": "python",
   "pygments_lexer": "ipython3",
   "version": "3.9.18"
  }
 },
 "nbformat": 4,
 "nbformat_minor": 5
}
